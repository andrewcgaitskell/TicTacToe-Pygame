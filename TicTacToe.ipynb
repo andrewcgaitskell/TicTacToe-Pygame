{
  "nbformat": 4,
  "nbformat_minor": 0,
  "metadata": {
    "colab": {
      "name": "TicTacToe.ipynb",
      "provenance": [],
      "collapsed_sections": [],
      "authorship_tag": "ABX9TyNAgDn9tHW4agYSq8ro7DSW",
      "include_colab_link": true
    },
    "kernelspec": {
      "name": "python3",
      "display_name": "Python 3"
    }
  },
  "cells": [
    {
      "cell_type": "markdown",
      "metadata": {
        "id": "view-in-github",
        "colab_type": "text"
      },
      "source": [
        "<a href=\"https://colab.research.google.com/github/andrewcgaitskell/TicTacToe-Pygame/blob/master/TicTacToe.ipynb\" target=\"_parent\"><img src=\"https://colab.research.google.com/assets/colab-badge.svg\" alt=\"Open In Colab\"/></a>"
      ]
    },
    {
      "cell_type": "code",
      "metadata": {
        "id": "k0fNN9Irv_2t"
      },
      "source": [
        "# Define the board\n",
        "board = [['N', 'N', 'N'],\n",
        "         ['N', 'N', 'N'],\n",
        "         ['N', 'N', 'N']]\n",
        "keys = [['1', '2', '3'],\n",
        "         ['4', '5', '6'],\n",
        "         ['7', '8', '9']]"
      ],
      "execution_count": 25,
      "outputs": []
    },
    {
      "cell_type": "code",
      "metadata": {
        "colab": {
          "base_uri": "https://localhost:8080/"
        },
        "id": "KZyj_wX93V08",
        "outputId": "fa2e28b7-b09b-4750-8708-c0504b91c9c8"
      },
      "source": [
        "def getPos(keyIn):\n",
        "  rowID = 0\n",
        "  colID = 0\n",
        "  retRow = 0\n",
        "  retCol = 0\n",
        "  for rows in keys:\n",
        "    colID = 1\n",
        "    rowID += 1\n",
        "    for cells in rows:\n",
        "      print(cells,keyIn)\n",
        "      if cells == keyIn:\n",
        "        retRow = rowID\n",
        "        retCol = colID\n",
        "        break\n",
        "  return retRow,retCol\n",
        "\n",
        "r,c = getPos('5')\n",
        "print(r,c)\n",
        "\n"
      ],
      "execution_count": 35,
      "outputs": [
        {
          "output_type": "stream",
          "text": [
            "1 5\n",
            "2 5\n",
            "3 5\n",
            "4 5\n",
            "5 5\n",
            "7 5\n",
            "8 5\n",
            "9 5\n",
            "2 1\n"
          ],
          "name": "stdout"
        }
      ]
    },
    {
      "cell_type": "code",
      "metadata": {
        "id": "DExef-v2wLfJ"
      },
      "source": [
        "# Define Scoreboard\n",
        "score = {'X': 0, 'O': 0}"
      ],
      "execution_count": 18,
      "outputs": []
    },
    {
      "cell_type": "code",
      "metadata": {
        "id": "4uyTeTU6xGEk"
      },
      "source": [
        "def playerMove(player, row, col):\n",
        "    board[row][col] = player"
      ],
      "execution_count": 19,
      "outputs": []
    },
    {
      "cell_type": "code",
      "metadata": {
        "id": "G8SdxW9xyKRQ"
      },
      "source": [
        "def printBoard():\n",
        "  for rows in board:\n",
        "    print('')\n",
        "    for cells in rows:\n",
        "      print(cells,end=\"\")\n",
        "  print('')\n",
        "  print('---keys---')\n",
        "  for rows in keys:\n",
        "    print('')\n",
        "    for cells in rows:\n",
        "      print(cells,end=\"\")"
      ],
      "execution_count": 42,
      "outputs": []
    },
    {
      "cell_type": "code",
      "metadata": {
        "colab": {
          "base_uri": "https://localhost:8080/"
        },
        "id": "63wU2Zv_xjTq",
        "outputId": "d42b11cf-7d3c-47a8-c18c-a05886a6eceb"
      },
      "source": [
        "player = 'X'\n",
        "row = 0\n",
        "col = 0\n",
        "playerMove(player, row, col)\n",
        "printBoard()"
      ],
      "execution_count": 43,
      "outputs": [
        {
          "output_type": "stream",
          "text": [
            "\n",
            "XNN\n",
            "NNN\n",
            "NNN\n",
            "---keys---\n",
            "\n",
            "123\n",
            "456\n",
            "789"
          ],
          "name": "stdout"
        }
      ]
    },
    {
      "cell_type": "code",
      "metadata": {
        "colab": {
          "base_uri": "https://localhost:8080/"
        },
        "id": "_eGnnjObxGPZ",
        "outputId": "04d583df-c8b7-4ffb-9ff8-164868ff2cb0"
      },
      "source": [
        "#def computerMove(player):\n",
        "# MiniMax algorithm to find the best move\n",
        "bestScore = float('inf')\n",
        "print(bestScore)"
      ],
      "execution_count": 24,
      "outputs": [
        {
          "output_type": "stream",
          "text": [
            "inf\n"
          ],
          "name": "stdout"
        }
      ]
    },
    {
      "cell_type": "code",
      "metadata": {
        "id": "FLt16_ac1gEM"
      },
      "source": [
        "def updatePlayer(player):\n",
        "    if player == 'X':\n",
        "        newPlayer = 'O'\n",
        "    else:\n",
        "        newPlayer = 'X'\n",
        "    return newPlayer\n",
        "\n",
        "\n",
        "# Verify if the current player is the winner\n",
        "def isWinner(player):\n",
        "    return ((board[0][0] == player and board[0][1] == player and board[0][2] == player) or\n",
        "            (board[1][0] == player and board[1][1] == player and board[1][2] == player) or\n",
        "            (board[2][0] == player and board[2][1] == player and board[2][2] == player) or\n",
        "            (board[0][0] == player and board[1][0] == player and board[2][0] == player) or\n",
        "            (board[0][1] == player and board[1][1] == player and board[2][1] == player) or\n",
        "            (board[0][2] == player and board[1][2] == player and board[2][2] == player) or\n",
        "            (board[0][0] == player and board[1][1] == player and board[2][2] == player) or\n",
        "            (board[0][2] == player and board[1][1] == player and board[2][0] == player))\n",
        "\n",
        "\n",
        "def verifyWinner(player):\n",
        "    if isWinner(player):\n",
        "        score[player] += 1\n",
        "        resetBoard()\n",
        "\n",
        "\n",
        "def isBoardFull():\n",
        "    for i in range(3):\n",
        "        for j in range(3):\n",
        "            if board[i][j] == 'N':\n",
        "                return False\n",
        "    return True\n",
        "\n",
        "\n",
        "def resetBoard():\n",
        "    for i in range(3):\n",
        "        for j in range(3):\n",
        "            board[i][j] = 'N'\n",
        "\n",
        "\n",
        "def resetGame():\n",
        "    resetBoard()\n",
        "    score['X'] = 0\n",
        "    score['O'] = 0"
      ],
      "execution_count": null,
      "outputs": []
    },
    {
      "cell_type": "code",
      "metadata": {
        "id": "uW7jzicDw2S4"
      },
      "source": [
        "def minimax(board, cur_player):\n",
        "    # Calculate the board score\n",
        "    if isWinner('X'):\n",
        "        return scores['X']\n",
        "    elif isWinner('O'):\n",
        "        return scores['O']\n",
        "    elif isBoardFull():\n",
        "        return scores['tie']\n",
        "    # Verify if it is the maximizing or minimizing player\n",
        "    if cur_player == 'X':\n",
        "        bestScore = float('-inf')\n",
        "        nextPlayer = 'O'\n",
        "        minORmax = max\n",
        "    else:\n",
        "        bestScore = float('inf')\n",
        "        nextPlayer = 'X'\n",
        "        minORmax = min\n",
        "    for row in range(3):\n",
        "        for col in range(3):\n",
        "            if board[row][col] == '':\n",
        "                board[row][col] = cur_player\n",
        "                score = minimax(board, nextPlayer)\n",
        "                board[row][col] = ''\n",
        "                bestScore = minORmax(score, bestScore)\n",
        "            # In case the 'AI' finds the best possible score\n",
        "            if bestScore == scores[cur_player]:\n",
        "                return bestScore\n",
        "    return bestScore\n",
        "\n"
      ],
      "execution_count": null,
      "outputs": []
    },
    {
      "cell_type": "code",
      "metadata": {
        "id": "hig21urA05_k"
      },
      "source": [
        "for row in range(3):\n",
        "    for col in range(3):\n",
        "        if board[row][col] == '':\n",
        "            board[row][col] = 'O'\n",
        "            score = minimax(board, 'X')\n",
        "            board[row][col] = ''\n",
        "            if score < bestScore:\n",
        "                bestScore = score\n",
        "                bestMove = (row, col)"
      ],
      "execution_count": null,
      "outputs": []
    },
    {
      "cell_type": "code",
      "metadata": {
        "id": "ayiiaPAK1IqY"
      },
      "source": [
        "board[bestMove[0]][bestMove[1]] = 'O'"
      ],
      "execution_count": null,
      "outputs": []
    },
    {
      "cell_type": "code",
      "metadata": {
        "id": "6GbbeWoyxS11"
      },
      "source": [
        "scores = {'X': 1, 'O': -1, 'tie': 0}"
      ],
      "execution_count": null,
      "outputs": []
    },
    {
      "cell_type": "code",
      "metadata": {
        "id": "goeUh8-_vyY-"
      },
      "source": [
        "def game(gameMode):\n",
        "    # Set X as the first player\n",
        "    player = 'X'\n",
        "    # Game loop\n",
        "    running = True\n",
        "    while running:\n",
        "        # Mouse\n",
        "        mouse = pygame.mouse.get_pos()\n",
        "        row, col = int(mouse[0] / 100), int(mouse[1] / 100)\n",
        "        # Analyzes each game event\n",
        "        for event in pygame.event.get():\n",
        "            if event.type == pygame.QUIT:\n",
        "                resetGame()\n",
        "                running = False\n",
        "            elif isBoardFull():\n",
        "                resetBoard()\n",
        "            elif gameMode == 1 and player == 'O':\n",
        "                computerMove(player)\n",
        "                verifyWinner(player)\n",
        "                player, previewImg = updatePlayer(player)\n",
        "            elif event.type == pygame.MOUSEBUTTONDOWN:\n",
        "                # If an empty spot is pressed\n",
        "                if row < 3 and col < 3 and board[row][col] == '':\n",
        "                    playerMove(player, row, col)\n",
        "                    verifyWinner(player)\n",
        "                    player, previewImg = updatePlayer(player)\n",
        "                # If reset button is pressed\n",
        "                elif 250 < mouse[0] < 282 and 310 < mouse[1] < 342:\n",
        "                    resetGame()\n",
        "        drawBoard()\n",
        "        if row < 3 and col < 3 and gameMode == 0:\n",
        "            visualizeMove(row, col, previewImg)\n",
        "        elif row < 3 and col < 3 and player == 'X':\n",
        "            visualizeMove(row, col, previewImg)"
      ],
      "execution_count": null,
      "outputs": []
    }
  ]
}