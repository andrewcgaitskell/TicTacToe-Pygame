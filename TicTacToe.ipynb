{
  "nbformat": 4,
  "nbformat_minor": 0,
  "metadata": {
    "colab": {
      "name": "TicTacToe.ipynb",
      "provenance": [],
      "authorship_tag": "ABX9TyO1db7AqcGZT0wBwWJ4iUyS",
      "include_colab_link": true
    },
    "kernelspec": {
      "name": "python3",
      "display_name": "Python 3"
    }
  },
  "cells": [
    {
      "cell_type": "markdown",
      "metadata": {
        "id": "view-in-github",
        "colab_type": "text"
      },
      "source": [
        "<a href=\"https://colab.research.google.com/github/andrewcgaitskell/TicTacToe-Pygame/blob/master/TicTacToe.ipynb\" target=\"_parent\"><img src=\"https://colab.research.google.com/assets/colab-badge.svg\" alt=\"Open In Colab\"/></a>"
      ]
    },
    {
      "cell_type": "code",
      "metadata": {
        "id": "k0fNN9Irv_2t"
      },
      "source": [
        "# Define the board\n",
        "board = [['N', 'N', 'N'],\n",
        "         ['N', 'N', 'N'],\n",
        "         ['N', 'N', 'N']]"
      ],
      "execution_count": 17,
      "outputs": []
    },
    {
      "cell_type": "code",
      "metadata": {
        "id": "DExef-v2wLfJ"
      },
      "source": [
        "# Define Scoreboard\n",
        "score = {'X': 0, 'O': 0}"
      ],
      "execution_count": 18,
      "outputs": []
    },
    {
      "cell_type": "code",
      "metadata": {
        "id": "4uyTeTU6xGEk"
      },
      "source": [
        "def playerMove(player, row, col):\n",
        "    board[row][col] = player"
      ],
      "execution_count": 19,
      "outputs": []
    },
    {
      "cell_type": "code",
      "metadata": {
        "id": "G8SdxW9xyKRQ"
      },
      "source": [
        "def printBoard():\n",
        "  for rows in board:\n",
        "    print('')\n",
        "    for cells in rows:\n",
        "      print(cells,end=\"\")"
      ],
      "execution_count": 22,
      "outputs": []
    },
    {
      "cell_type": "code",
      "metadata": {
        "colab": {
          "base_uri": "https://localhost:8080/"
        },
        "id": "63wU2Zv_xjTq",
        "outputId": "ba9afb9d-da2d-4449-e86f-dcbcc2794e49"
      },
      "source": [
        "player = 'X'\n",
        "row = 0\n",
        "col = 0\n",
        "playerMove(player, row, col)\n",
        "printBoard()"
      ],
      "execution_count": 23,
      "outputs": [
        {
          "output_type": "stream",
          "text": [
            "\n",
            "XNN\n",
            "NNN\n",
            "NNN"
          ],
          "name": "stdout"
        }
      ]
    },
    {
      "cell_type": "code",
      "metadata": {
        "id": "_eGnnjObxGPZ"
      },
      "source": [
        "#def computerMove(player):\n",
        "# MiniMax algorithm to find the best move\n",
        "bestScore = float('inf')\n",
        "for row in range(3):\n",
        "    for col in range(3):\n",
        "        if board[row][col] == '':\n",
        "            board[row][col] = 'O'\n",
        "            score = minimax(board, 'X')\n",
        "            board[row][col] = ''\n",
        "            if score < bestScore:\n",
        "                bestScore = score\n",
        "                bestMove = (row, col)\n",
        "board[bestMove[0]][bestMove[1]] = 'O'"
      ],
      "execution_count": null,
      "outputs": []
    },
    {
      "cell_type": "code",
      "metadata": {
        "id": "6GbbeWoyxS11"
      },
      "source": [
        "scores = {'X': 1, 'O': -1, 'tie': 0}"
      ],
      "execution_count": null,
      "outputs": []
    },
    {
      "cell_type": "code",
      "metadata": {
        "id": "uW7jzicDw2S4"
      },
      "source": [
        "def minimax(board, cur_player):\n",
        "    # Calculate the board score\n",
        "    if isWinner('X'):\n",
        "        return scores['X']\n",
        "    elif isWinner('O'):\n",
        "        return scores['O']\n",
        "    elif isBoardFull():\n",
        "        return scores['tie']\n",
        "    # Verify if it is the maximizing or minimizing player\n",
        "    if cur_player == 'X':\n",
        "        bestScore = float('-inf')\n",
        "        nextPlayer = 'O'\n",
        "        minORmax = max\n",
        "    else:\n",
        "        bestScore = float('inf')\n",
        "        nextPlayer = 'X'\n",
        "        minORmax = min\n",
        "    for row in range(3):\n",
        "        for col in range(3):\n",
        "            if board[row][col] == '':\n",
        "                board[row][col] = cur_player\n",
        "                score = minimax(board, nextPlayer)\n",
        "                board[row][col] = ''\n",
        "                bestScore = minORmax(score, bestScore)\n",
        "            # In case the 'AI' finds the best possible score\n",
        "            if bestScore == scores[cur_player]:\n",
        "                return bestScore\n",
        "    return bestScore\n",
        "\n",
        "\n",
        "def updatePlayer(player):\n",
        "    if player == 'X':\n",
        "        newPlayer = 'O'\n",
        "        previewImg = previewCircleImg\n",
        "    else:\n",
        "        newPlayer = 'X'\n",
        "        previewImg = previewCrossImg\n",
        "    return newPlayer, previewImg\n",
        "\n",
        "\n",
        "# Verify if the current player is the winner\n",
        "def isWinner(player):\n",
        "    return ((board[0][0] == player and board[0][1] == player and board[0][2] == player) or\n",
        "            (board[1][0] == player and board[1][1] == player and board[1][2] == player) or\n",
        "            (board[2][0] == player and board[2][1] == player and board[2][2] == player) or\n",
        "            (board[0][0] == player and board[1][0] == player and board[2][0] == player) or\n",
        "            (board[0][1] == player and board[1][1] == player and board[2][1] == player) or\n",
        "            (board[0][2] == player and board[1][2] == player and board[2][2] == player) or\n",
        "            (board[0][0] == player and board[1][1] == player and board[2][2] == player) or\n",
        "            (board[0][2] == player and board[1][1] == player and board[2][0] == player))\n",
        "\n",
        "\n",
        "def verifyWinner(player):\n",
        "    if isWinner(player):\n",
        "        #playSound('Data/Sounds/resetSound.wav')\n",
        "        score[player] += 1\n",
        "        pygame.time.wait(500)\n",
        "        resetBoard()\n",
        "\n",
        "\n",
        "def isBoardFull():\n",
        "    for i in range(3):\n",
        "        for j in range(3):\n",
        "            if board[i][j] == '':\n",
        "                return False\n",
        "    return True\n",
        "\n",
        "\n",
        "def resetBoard():\n",
        "    for i in range(3):\n",
        "        for j in range(3):\n",
        "            board[i][j] = ''\n",
        "\n",
        "\n",
        "def resetGame():\n",
        "    resetBoard()\n",
        "    score['X'] = 0\n",
        "    score['O'] = 0"
      ],
      "execution_count": null,
      "outputs": []
    },
    {
      "cell_type": "code",
      "metadata": {
        "id": "goeUh8-_vyY-"
      },
      "source": [
        "def game(gameMode):\n",
        "    pygame.mouse.set_pos(150, 175)\n",
        "    # Set X as the first player\n",
        "    player = 'X'\n",
        "    previewImg = previewCrossImg\n",
        "    # Game loop\n",
        "    running = True\n",
        "    while running:\n",
        "        # Mouse\n",
        "        mouse = pygame.mouse.get_pos()\n",
        "        row, col = int(mouse[0] / 100), int(mouse[1] / 100)\n",
        "        # Analyzes each game event\n",
        "        for event in pygame.event.get():\n",
        "            if event.type == pygame.QUIT:\n",
        "                resetGame()\n",
        "                running = False\n",
        "            elif isBoardFull():\n",
        "                resetBoard()\n",
        "            elif gameMode == 1 and player == 'O':\n",
        "                computerMove(player)\n",
        "                verifyWinner(player)\n",
        "                player, previewImg = updatePlayer(player)\n",
        "            elif event.type == pygame.MOUSEBUTTONDOWN:\n",
        "                # If an empty spot is pressed\n",
        "                if row < 3 and col < 3 and board[row][col] == '':\n",
        "                    playerMove(player, row, col)\n",
        "                    verifyWinner(player)\n",
        "                    player, previewImg = updatePlayer(player)\n",
        "                # If reset button is pressed\n",
        "                elif 250 < mouse[0] < 282 and 310 < mouse[1] < 342:\n",
        "                    resetGame()\n",
        "        # Draw in screen graphical elements\n",
        "        screen.fill(background_color)\n",
        "        drawBoard()\n",
        "        drawButtonMenu(mouse)\n",
        "        if row < 3 and col < 3 and gameMode == 0:\n",
        "            visualizeMove(row, col, previewImg)\n",
        "        elif row < 3 and col < 3 and player == 'X':\n",
        "            visualizeMove(row, col, previewImg)\n",
        "        pygame.display.update()"
      ],
      "execution_count": null,
      "outputs": []
    }
  ]
}