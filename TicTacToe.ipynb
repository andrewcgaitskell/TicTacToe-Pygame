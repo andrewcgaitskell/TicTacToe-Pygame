{
  "nbformat": 4,
  "nbformat_minor": 0,
  "metadata": {
    "colab": {
      "name": "TicTacToe.ipynb",
      "provenance": [],
      "collapsed_sections": [],
      "authorship_tag": "ABX9TyOZEjflIlX65qqupD9rzcSS",
      "include_colab_link": true
    },
    "kernelspec": {
      "name": "python3",
      "display_name": "Python 3"
    }
  },
  "cells": [
    {
      "cell_type": "markdown",
      "metadata": {
        "id": "view-in-github",
        "colab_type": "text"
      },
      "source": [
        "<a href=\"https://colab.research.google.com/github/andrewcgaitskell/TicTacToe-Pygame/blob/master/TicTacToe.ipynb\" target=\"_parent\"><img src=\"https://colab.research.google.com/assets/colab-badge.svg\" alt=\"Open In Colab\"/></a>"
      ]
    },
    {
      "cell_type": "code",
      "metadata": {
        "id": "k0fNN9Irv_2t"
      },
      "source": [
        "# Define the board\n",
        "board = [['N', 'N', 'N'],\n",
        "         ['N', 'N', 'N'],\n",
        "         ['N', 'N', 'N']]\n",
        "keys = [['1', '2', '3'],\n",
        "         ['4', '5', '6'],\n",
        "         ['7', '8', '9']]"
      ],
      "execution_count": 131,
      "outputs": []
    },
    {
      "cell_type": "code",
      "metadata": {
        "colab": {
          "base_uri": "https://localhost:8080/"
        },
        "id": "KZyj_wX93V08",
        "outputId": "fc8bb7cf-81af-4af7-8714-180c5fae1dea"
      },
      "source": [
        "def getPos(keyIn):\n",
        "  rowID = 0\n",
        "  colID = 0\n",
        "  retRow = 0\n",
        "  retCol = 0\n",
        "  for rows in keys:\n",
        "    colID = 0\n",
        "    \n",
        "    for cells in rows:\n",
        "      #print(cells,keyIn)\n",
        "      \n",
        "      if cells == keyIn:\n",
        "        retRow = rowID\n",
        "        retCol = colID\n",
        "        break\n",
        "      colID += 1\n",
        "  \n",
        "    rowID += 1\n",
        "\n",
        "  return retRow,retCol\n",
        "\n",
        "r,c = getPos('9')\n",
        "print(r,c)\n",
        "\n"
      ],
      "execution_count": 132,
      "outputs": [
        {
          "output_type": "stream",
          "text": [
            "2 2\n"
          ],
          "name": "stdout"
        }
      ]
    },
    {
      "cell_type": "code",
      "metadata": {
        "id": "DExef-v2wLfJ"
      },
      "source": [
        "# Define Scoreboard\n",
        "score = {'X': 0, 'O': 0}"
      ],
      "execution_count": 133,
      "outputs": []
    },
    {
      "cell_type": "code",
      "metadata": {
        "id": "4uyTeTU6xGEk"
      },
      "source": [
        "def playerMove(player, row, col):\n",
        "    board[row][col] = player"
      ],
      "execution_count": 134,
      "outputs": []
    },
    {
      "cell_type": "code",
      "metadata": {
        "id": "G8SdxW9xyKRQ"
      },
      "source": [
        "def printBoard():\n",
        "  for rows in board:\n",
        "    print('')\n",
        "    for cells in rows:\n",
        "      print(cells,end=\"\")\n",
        "  print('')\n",
        "  \n",
        "def printKeys():\n",
        "  print('---keys---')\n",
        "  for rows in keys:\n",
        "    print('')\n",
        "    for cells in rows:\n",
        "      print(cells,end=\"\")"
      ],
      "execution_count": 135,
      "outputs": []
    },
    {
      "cell_type": "code",
      "metadata": {
        "colab": {
          "base_uri": "https://localhost:8080/"
        },
        "id": "_eGnnjObxGPZ",
        "outputId": "8f2ad03f-2413-4987-a95a-0508bf2af1bf"
      },
      "source": [
        "#def computerMove(player):\n",
        "# MiniMax algorithm to find the best move\n",
        "bestScore = float('inf')\n",
        "print(bestScore)"
      ],
      "execution_count": 136,
      "outputs": [
        {
          "output_type": "stream",
          "text": [
            "inf\n"
          ],
          "name": "stdout"
        }
      ]
    },
    {
      "cell_type": "code",
      "metadata": {
        "id": "FLt16_ac1gEM"
      },
      "source": [
        "def updatePlayer(player):\n",
        "    if player == 'X':\n",
        "        newPlayer = 'O'\n",
        "    else:\n",
        "        newPlayer = 'X'\n",
        "    return newPlayer\n",
        "\n",
        "\n",
        "# Verify if the current player is the winner\n",
        "def isWinner(player):\n",
        "    return ((board[0][0] == player and board[0][1] == player and board[0][2] == player) or\n",
        "            (board[1][0] == player and board[1][1] == player and board[1][2] == player) or\n",
        "            (board[2][0] == player and board[2][1] == player and board[2][2] == player) or\n",
        "            (board[0][0] == player and board[1][0] == player and board[2][0] == player) or\n",
        "            (board[0][1] == player and board[1][1] == player and board[2][1] == player) or\n",
        "            (board[0][2] == player and board[1][2] == player and board[2][2] == player) or\n",
        "            (board[0][0] == player and board[1][1] == player and board[2][2] == player) or\n",
        "            (board[0][2] == player and board[1][1] == player and board[2][0] == player))\n",
        "\n",
        "\n",
        "def verifyWinner(player):\n",
        "    if isWinner(player):\n",
        "        score[player] += 1\n",
        "        resetBoard()\n",
        "\n",
        "\n",
        "def isBoardFull():\n",
        "    for i in range(3):\n",
        "        for j in range(3):\n",
        "            if board[i][j] == 'N':\n",
        "                return False\n",
        "    return True\n",
        "\n",
        "\n",
        "def resetBoard():\n",
        "    for i in range(3):\n",
        "        for j in range(3):\n",
        "            board[i][j] = 'N'\n",
        "\n",
        "\n",
        "def resetGame():\n",
        "    resetBoard()\n",
        "    score['X'] = 0\n",
        "    score['O'] = 0"
      ],
      "execution_count": 137,
      "outputs": []
    },
    {
      "cell_type": "code",
      "metadata": {
        "colab": {
          "base_uri": "https://localhost:8080/"
        },
        "id": "B1KqI1mQLwBc",
        "outputId": "09d22f8a-34df-45bb-ed0a-5d548a202cbe"
      },
      "source": [
        "for i in range(3):\n",
        "  print(i)"
      ],
      "execution_count": 138,
      "outputs": [
        {
          "output_type": "stream",
          "text": [
            "0\n",
            "1\n",
            "2\n"
          ],
          "name": "stdout"
        }
      ]
    },
    {
      "cell_type": "code",
      "metadata": {
        "id": "uW7jzicDw2S4"
      },
      "source": [
        "def minimax(board, cur_player):\n",
        "    # Calculate the board score\n",
        "    if isWinner('X'):\n",
        "        return scores['X']\n",
        "    elif isWinner('O'):\n",
        "        return scores['O']\n",
        "    elif isBoardFull():\n",
        "        return scores['tie']\n",
        "    # Verify if it is the maximizing or minimizing player\n",
        "    if cur_player == 'X':\n",
        "        bestScore = float('-inf')\n",
        "        nextPlayer = 'O'\n",
        "        minORmax = max\n",
        "    else:\n",
        "        bestScore = float('inf')\n",
        "        nextPlayer = 'X'\n",
        "        minORmax = min\n",
        "    for row in range(3):\n",
        "        for col in range(3):\n",
        "            if board[row][col] == '':\n",
        "                board[row][col] = cur_player\n",
        "                score = minimax(board, nextPlayer)\n",
        "                board[row][col] = ''\n",
        "                bestScore = minORmax(score, bestScore)\n",
        "            # In case the 'AI' finds the best possible score\n",
        "            if bestScore == scores[cur_player]:\n",
        "                return bestScore\n",
        "    return bestScore\n",
        "\n"
      ],
      "execution_count": 139,
      "outputs": []
    },
    {
      "cell_type": "code",
      "metadata": {
        "id": "HotZPYSqCq5j"
      },
      "source": [
        "def playerMove(player, row, col):\n",
        "    board[row][col] = player"
      ],
      "execution_count": 140,
      "outputs": []
    },
    {
      "cell_type": "code",
      "metadata": {
        "colab": {
          "base_uri": "https://localhost:8080/"
        },
        "id": "63wU2Zv_xjTq",
        "outputId": "a887b633-71bc-453e-e7b9-c46098cf3929"
      },
      "source": [
        "resetBoard()\n",
        "printKeys()\n",
        "playerKey = input()\n",
        "row,col = getPos(playerKey)\n",
        "player = 'X'\n",
        "playerMove(player, row, col)\n",
        "printBoard()\n"
      ],
      "execution_count": 141,
      "outputs": [
        {
          "output_type": "stream",
          "text": [
            "---keys---\n",
            "\n",
            "123\n",
            "456\n",
            "7895\n",
            "\n",
            "NNN\n",
            "NXN\n",
            "NNN\n"
          ],
          "name": "stdout"
        }
      ]
    },
    {
      "cell_type": "code",
      "metadata": {
        "id": "hig21urA05_k"
      },
      "source": [
        "def computerMove(player):\n",
        "    # MiniMax algorithm to find the best move\n",
        "    bestScore = float('inf')\n",
        "    bestMoveRow = 0\n",
        "    bestMoveCol = 0\n",
        "    bestMove = (-1,-1)\n",
        "    for row in range(3):\n",
        "        for col in range(3):\n",
        "            if board[row][col] == '':\n",
        "                board[row][col] = player\n",
        "                score = minimax(board, updatePlayer(player))\n",
        "                board[row][col] = ''\n",
        "                if score < bestScore:\n",
        "                    bestScore = score\n",
        "                    bestMoveRow = row\n",
        "                    bestMoveCol = col\n",
        "    playerMove(player, bestMoveRow, bestMoveCol)"
      ],
      "execution_count": 142,
      "outputs": []
    },
    {
      "cell_type": "code",
      "metadata": {
        "id": "6GbbeWoyxS11"
      },
      "source": [
        "scores = {'X': 1, 'O': -1, 'tie': 0}"
      ],
      "execution_count": 143,
      "outputs": []
    },
    {
      "cell_type": "code",
      "metadata": {
        "colab": {
          "base_uri": "https://localhost:8080/",
          "height": 1000
        },
        "id": "goeUh8-_vyY-",
        "outputId": "9cc74074-aea1-48d4-90b2-f43b0567f6ce"
      },
      "source": [
        "#def game(gameMode):\n",
        "    # Set X as the first player\n",
        "resetBoard()\n",
        "player = 'X'\n",
        "printKeys()\n",
        "gameMode = 1\n",
        "# Game loop\n",
        "running = True\n",
        "while running:\n",
        "    if isBoardFull():\n",
        "        resetBoard()\n",
        "    elif gameMode == 1 and player == 'X':\n",
        "        printBoard()\n",
        "        playerKey = input()\n",
        "        row,col = getPos(playerKey)\n",
        "        playerMove(player, row, col)\n",
        "        verifyWinner(player)\n",
        "        player = updatePlayer(player)\n",
        "    elif gameMode == 1 and player == 'O':\n",
        "        computerMove(player)\n",
        "        verifyWinner(player)\n",
        "        player = updatePlayer(player)\n",
        "    \n",
        "    "
      ],
      "execution_count": 144,
      "outputs": [
        {
          "output_type": "stream",
          "text": [
            "---keys---\n",
            "\n",
            "123\n",
            "456\n",
            "789\n",
            "NNN\n",
            "NNN\n",
            "NNN\n",
            "5\n",
            "\n",
            "ONN\n",
            "NXN\n",
            "NNN\n",
            "8\n",
            "\n",
            "ONN\n",
            "NXN\n",
            "NXN\n",
            "2\n",
            "\n",
            "ONN\n",
            "NNN\n",
            "NNN\n",
            "5\n",
            "\n",
            "ONN\n",
            "NXN\n",
            "NNN\n"
          ],
          "name": "stdout"
        },
        {
          "output_type": "error",
          "ename": "KeyboardInterrupt",
          "evalue": "ignored",
          "traceback": [
            "\u001b[0;31m---------------------------------------------------------------------------\u001b[0m",
            "\u001b[0;31mKeyboardInterrupt\u001b[0m                         Traceback (most recent call last)",
            "\u001b[0;32m/usr/local/lib/python3.6/dist-packages/ipykernel/kernelbase.py\u001b[0m in \u001b[0;36m_input_request\u001b[0;34m(self, prompt, ident, parent, password)\u001b[0m\n\u001b[1;32m    728\u001b[0m             \u001b[0;32mtry\u001b[0m\u001b[0;34m:\u001b[0m\u001b[0;34m\u001b[0m\u001b[0;34m\u001b[0m\u001b[0m\n\u001b[0;32m--> 729\u001b[0;31m                 \u001b[0mident\u001b[0m\u001b[0;34m,\u001b[0m \u001b[0mreply\u001b[0m \u001b[0;34m=\u001b[0m \u001b[0mself\u001b[0m\u001b[0;34m.\u001b[0m\u001b[0msession\u001b[0m\u001b[0;34m.\u001b[0m\u001b[0mrecv\u001b[0m\u001b[0;34m(\u001b[0m\u001b[0mself\u001b[0m\u001b[0;34m.\u001b[0m\u001b[0mstdin_socket\u001b[0m\u001b[0;34m,\u001b[0m \u001b[0;36m0\u001b[0m\u001b[0;34m)\u001b[0m\u001b[0;34m\u001b[0m\u001b[0;34m\u001b[0m\u001b[0m\n\u001b[0m\u001b[1;32m    730\u001b[0m             \u001b[0;32mexcept\u001b[0m \u001b[0mException\u001b[0m\u001b[0;34m:\u001b[0m\u001b[0;34m\u001b[0m\u001b[0;34m\u001b[0m\u001b[0m\n",
            "\u001b[0;32m/usr/local/lib/python3.6/dist-packages/jupyter_client/session.py\u001b[0m in \u001b[0;36mrecv\u001b[0;34m(self, socket, mode, content, copy)\u001b[0m\n\u001b[1;32m    802\u001b[0m         \u001b[0;32mtry\u001b[0m\u001b[0;34m:\u001b[0m\u001b[0;34m\u001b[0m\u001b[0;34m\u001b[0m\u001b[0m\n\u001b[0;32m--> 803\u001b[0;31m             \u001b[0mmsg_list\u001b[0m \u001b[0;34m=\u001b[0m \u001b[0msocket\u001b[0m\u001b[0;34m.\u001b[0m\u001b[0mrecv_multipart\u001b[0m\u001b[0;34m(\u001b[0m\u001b[0mmode\u001b[0m\u001b[0;34m,\u001b[0m \u001b[0mcopy\u001b[0m\u001b[0;34m=\u001b[0m\u001b[0mcopy\u001b[0m\u001b[0;34m)\u001b[0m\u001b[0;34m\u001b[0m\u001b[0;34m\u001b[0m\u001b[0m\n\u001b[0m\u001b[1;32m    804\u001b[0m         \u001b[0;32mexcept\u001b[0m \u001b[0mzmq\u001b[0m\u001b[0;34m.\u001b[0m\u001b[0mZMQError\u001b[0m \u001b[0;32mas\u001b[0m \u001b[0me\u001b[0m\u001b[0;34m:\u001b[0m\u001b[0;34m\u001b[0m\u001b[0;34m\u001b[0m\u001b[0m\n",
            "\u001b[0;32m/usr/local/lib/python3.6/dist-packages/zmq/sugar/socket.py\u001b[0m in \u001b[0;36mrecv_multipart\u001b[0;34m(self, flags, copy, track)\u001b[0m\n\u001b[1;32m    582\u001b[0m         \"\"\"\n\u001b[0;32m--> 583\u001b[0;31m         \u001b[0mparts\u001b[0m \u001b[0;34m=\u001b[0m \u001b[0;34m[\u001b[0m\u001b[0mself\u001b[0m\u001b[0;34m.\u001b[0m\u001b[0mrecv\u001b[0m\u001b[0;34m(\u001b[0m\u001b[0mflags\u001b[0m\u001b[0;34m,\u001b[0m \u001b[0mcopy\u001b[0m\u001b[0;34m=\u001b[0m\u001b[0mcopy\u001b[0m\u001b[0;34m,\u001b[0m \u001b[0mtrack\u001b[0m\u001b[0;34m=\u001b[0m\u001b[0mtrack\u001b[0m\u001b[0;34m)\u001b[0m\u001b[0;34m]\u001b[0m\u001b[0;34m\u001b[0m\u001b[0;34m\u001b[0m\u001b[0m\n\u001b[0m\u001b[1;32m    584\u001b[0m         \u001b[0;31m# have first part already, only loop while more to receive\u001b[0m\u001b[0;34m\u001b[0m\u001b[0;34m\u001b[0m\u001b[0;34m\u001b[0m\u001b[0m\n",
            "\u001b[0;32mzmq/backend/cython/socket.pyx\u001b[0m in \u001b[0;36mzmq.backend.cython.socket.Socket.recv\u001b[0;34m()\u001b[0m\n",
            "\u001b[0;32mzmq/backend/cython/socket.pyx\u001b[0m in \u001b[0;36mzmq.backend.cython.socket.Socket.recv\u001b[0;34m()\u001b[0m\n",
            "\u001b[0;32mzmq/backend/cython/socket.pyx\u001b[0m in \u001b[0;36mzmq.backend.cython.socket._recv_copy\u001b[0;34m()\u001b[0m\n",
            "\u001b[0;32m/usr/local/lib/python3.6/dist-packages/zmq/backend/cython/checkrc.pxd\u001b[0m in \u001b[0;36mzmq.backend.cython.checkrc._check_rc\u001b[0;34m()\u001b[0m\n",
            "\u001b[0;31mKeyboardInterrupt\u001b[0m: ",
            "\nDuring handling of the above exception, another exception occurred:\n",
            "\u001b[0;31mKeyboardInterrupt\u001b[0m                         Traceback (most recent call last)",
            "\u001b[0;32m<ipython-input-144-abaf742a81b0>\u001b[0m in \u001b[0;36m<module>\u001b[0;34m()\u001b[0m\n\u001b[1;32m     12\u001b[0m     \u001b[0;32melif\u001b[0m \u001b[0mgameMode\u001b[0m \u001b[0;34m==\u001b[0m \u001b[0;36m1\u001b[0m \u001b[0;32mand\u001b[0m \u001b[0mplayer\u001b[0m \u001b[0;34m==\u001b[0m \u001b[0;34m'X'\u001b[0m\u001b[0;34m:\u001b[0m\u001b[0;34m\u001b[0m\u001b[0;34m\u001b[0m\u001b[0m\n\u001b[1;32m     13\u001b[0m         \u001b[0mprintBoard\u001b[0m\u001b[0;34m(\u001b[0m\u001b[0;34m)\u001b[0m\u001b[0;34m\u001b[0m\u001b[0;34m\u001b[0m\u001b[0m\n\u001b[0;32m---> 14\u001b[0;31m         \u001b[0mplayerKey\u001b[0m \u001b[0;34m=\u001b[0m \u001b[0minput\u001b[0m\u001b[0;34m(\u001b[0m\u001b[0;34m)\u001b[0m\u001b[0;34m\u001b[0m\u001b[0;34m\u001b[0m\u001b[0m\n\u001b[0m\u001b[1;32m     15\u001b[0m         \u001b[0mrow\u001b[0m\u001b[0;34m,\u001b[0m\u001b[0mcol\u001b[0m \u001b[0;34m=\u001b[0m \u001b[0mgetPos\u001b[0m\u001b[0;34m(\u001b[0m\u001b[0mplayerKey\u001b[0m\u001b[0;34m)\u001b[0m\u001b[0;34m\u001b[0m\u001b[0;34m\u001b[0m\u001b[0m\n\u001b[1;32m     16\u001b[0m         \u001b[0mplayerMove\u001b[0m\u001b[0;34m(\u001b[0m\u001b[0mplayer\u001b[0m\u001b[0;34m,\u001b[0m \u001b[0mrow\u001b[0m\u001b[0;34m,\u001b[0m \u001b[0mcol\u001b[0m\u001b[0;34m)\u001b[0m\u001b[0;34m\u001b[0m\u001b[0;34m\u001b[0m\u001b[0m\n",
            "\u001b[0;32m/usr/local/lib/python3.6/dist-packages/ipykernel/kernelbase.py\u001b[0m in \u001b[0;36mraw_input\u001b[0;34m(self, prompt)\u001b[0m\n\u001b[1;32m    702\u001b[0m             \u001b[0mself\u001b[0m\u001b[0;34m.\u001b[0m\u001b[0m_parent_ident\u001b[0m\u001b[0;34m,\u001b[0m\u001b[0;34m\u001b[0m\u001b[0;34m\u001b[0m\u001b[0m\n\u001b[1;32m    703\u001b[0m             \u001b[0mself\u001b[0m\u001b[0;34m.\u001b[0m\u001b[0m_parent_header\u001b[0m\u001b[0;34m,\u001b[0m\u001b[0;34m\u001b[0m\u001b[0;34m\u001b[0m\u001b[0m\n\u001b[0;32m--> 704\u001b[0;31m             \u001b[0mpassword\u001b[0m\u001b[0;34m=\u001b[0m\u001b[0;32mFalse\u001b[0m\u001b[0;34m,\u001b[0m\u001b[0;34m\u001b[0m\u001b[0;34m\u001b[0m\u001b[0m\n\u001b[0m\u001b[1;32m    705\u001b[0m         )\n\u001b[1;32m    706\u001b[0m \u001b[0;34m\u001b[0m\u001b[0m\n",
            "\u001b[0;32m/usr/local/lib/python3.6/dist-packages/ipykernel/kernelbase.py\u001b[0m in \u001b[0;36m_input_request\u001b[0;34m(self, prompt, ident, parent, password)\u001b[0m\n\u001b[1;32m    732\u001b[0m             \u001b[0;32mexcept\u001b[0m \u001b[0mKeyboardInterrupt\u001b[0m\u001b[0;34m:\u001b[0m\u001b[0;34m\u001b[0m\u001b[0;34m\u001b[0m\u001b[0m\n\u001b[1;32m    733\u001b[0m                 \u001b[0;31m# re-raise KeyboardInterrupt, to truncate traceback\u001b[0m\u001b[0;34m\u001b[0m\u001b[0;34m\u001b[0m\u001b[0;34m\u001b[0m\u001b[0m\n\u001b[0;32m--> 734\u001b[0;31m                 \u001b[0;32mraise\u001b[0m \u001b[0mKeyboardInterrupt\u001b[0m\u001b[0;34m\u001b[0m\u001b[0;34m\u001b[0m\u001b[0m\n\u001b[0m\u001b[1;32m    735\u001b[0m             \u001b[0;32melse\u001b[0m\u001b[0;34m:\u001b[0m\u001b[0;34m\u001b[0m\u001b[0;34m\u001b[0m\u001b[0m\n\u001b[1;32m    736\u001b[0m                 \u001b[0;32mbreak\u001b[0m\u001b[0;34m\u001b[0m\u001b[0;34m\u001b[0m\u001b[0m\n",
            "\u001b[0;31mKeyboardInterrupt\u001b[0m: "
          ]
        }
      ]
    }
  ]
}